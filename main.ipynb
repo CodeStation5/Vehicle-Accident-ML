{
 "cells": [
  {
   "cell_type": "code",
   "execution_count": null,
   "id": "initial_id",
   "metadata": {
    "collapsed": true
   },
   "outputs": [],
   "source": [
    "# Library imports\n",
    "from turtle import pd"
   ]
  },
  {
   "cell_type": "code",
   "outputs": [],
   "source": [
    "# Dataset retrieval\n",
    "dataUrl = 'https://raw.githubusercontent.com/Codestation5/Vehicle-Accident-ML/dataset/accident_data_CSV.csv'\n",
    "reader = pd.read_csv(dataUrl)\n",
    "x = reader['x']"
   ],
   "metadata": {
    "collapsed": false
   },
   "id": "ea3f7e99aa963824"
  }
 ],
 "metadata": {
  "kernelspec": {
   "display_name": "Python 3",
   "language": "python",
   "name": "python3"
  },
  "language_info": {
   "codemirror_mode": {
    "name": "ipython",
    "version": 2
   },
   "file_extension": ".py",
   "mimetype": "text/x-python",
   "name": "python",
   "nbconvert_exporter": "python",
   "pygments_lexer": "ipython2",
   "version": "2.7.6"
  }
 },
 "nbformat": 4,
 "nbformat_minor": 5
}
