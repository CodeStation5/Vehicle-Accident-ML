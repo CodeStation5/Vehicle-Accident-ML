{
 "cells": [
  {
   "cell_type": "code",
   "outputs": [],
   "source": [
    "# Library imports\n",
    "import pandas as pd\n",
    "import seaborn as sns\n",
    "import matplotlib.pyplot as plt\n",
    "from matplotlib import colormaps"
   ],
   "metadata": {
    "collapsed": true
   },
   "id": "initial_id",
   "execution_count": null
  },
  {
   "cell_type": "code",
   "outputs": [],
   "source": [
    "# Dataset retrieval\n",
    "dataUrl='https://raw.githubusercontent.com/CodeStation5/Vehicle-Accident-ML/main/dataset/accident_data_CSV.csv'\n",
    "# Local file -> dataUrl=(\"dataset/accident_data_CSV.csv\")\n",
    "reader=pd.read_csv(dataUrl)\n",
    "# Set color themes\n",
    "list(colormaps)\n",
    "sns.set_theme(style=\"darkgrid\")"
   ],
   "metadata": {
    "collapsed": false
   },
   "id": "ea3f7e99aa963824",
   "execution_count": null
  },
  {
   "cell_type": "code",
   "outputs": [],
   "source": [
    "# Print the dataset\n",
    "print(\"Here is a summary of the dataset used\")\n",
    "display(reader)"
   ],
   "metadata": {
    "collapsed": false
   },
   "id": "4da5fc901d232e56",
   "execution_count": null
  },
  {
   "cell_type": "code",
   "outputs": [],
   "source": [
    "# Print data in charts\n",
    "print(\"Here is the data in bar charts to showcase how vehicle accident data differs based on factors such as the month and year\")"
   ],
   "metadata": {
    "collapsed": false
   },
   "id": "270c2baa7c2f163",
   "execution_count": null
  },
  {
   "cell_type": "code",
   "outputs": [],
   "source": [
    "plt.figure(figsize=(15, 10))\n",
    "sns.countplot(x='Day_of_Week', data=reader)\n",
    "plt.title('Accidents occurring on which day of the week')\n",
    "plt.xlabel('Day')\n",
    "plt.ylabel('Number of accidents')\n",
    "plt.show()\n"
   ],
   "metadata": {
    "collapsed": false
   },
   "id": "87184287bb57e1b2",
   "execution_count": null
  },
  {
   "cell_type": "code",
   "outputs": [],
   "source": [
    "reader['Accident Date'] = pd.to_datetime(reader['Accident Date'], format='%m/%d/%Y')\n",
    "reader['Month'] = reader['Accident Date'].dt.month_name()\n",
    "plt.figure(figsize=(15, 10))\n",
    "sns.countplot(x='Month', data=reader, order=\n",
    "['January', 'February', 'March', 'April', 'May', 'June', 'July', 'August', 'September', 'October', 'November', 'December'])\n",
    "plt.title('Accidents occurring on which month of the year')\n",
    "plt.xlabel('Month')\n",
    "plt.ylabel('Number of accidents')\n",
    "plt.show()\n"
   ],
   "metadata": {
    "collapsed": false
   },
   "id": "2d7b947e20dd733e",
   "execution_count": null
  },
  {
   "cell_type": "code",
   "outputs": [],
   "source": [
    "# Heatmap of the factors involved in accidents and how they relate to each other\n",
    "plt.figure(figsize=(10, 10))\n",
    "heatmap = reader.corr(numeric_only=True)  \n",
    "sns.heatmap(heatmap, cmap=\"hot\", annot=True, fmt='.1f', linewidths=5)\n",
    "plt.title('Accident factors heatmap of relations')\n",
    "plt.show()"
   ],
   "metadata": {
    "collapsed": false
   },
   "id": "ae5ec8d2b2f9d8a9",
   "execution_count": null
  },
  {
   "cell_type": "code",
   "outputs": [],
   "source": [
    "# Scatterplot of how the area the accident occurs relates to how serious the accident was\n",
    "plt.figure(figsize=(16, 12))\n",
    "sns.scatterplot(data=reader, palette='magma', hue='Accident_Severity', alpha=1, x='Longitude', y='Latitude')\n",
    "plt.title('Seriousness of accidents based on where they occurred')\n",
    "plt.xlabel('Longitude')\n",
    "plt.ylabel('Latitude')\n",
    "plt.show()"
   ],
   "metadata": {
    "collapsed": false
   },
   "id": "ea9bfabb6922bcfe",
   "execution_count": null
  }
 ],
 "metadata": {
  "kernelspec": {
   "display_name": "Python 3",
   "language": "python",
   "name": "python3"
  },
  "language_info": {
   "codemirror_mode": {
    "name": "ipython",
    "version": 2
   },
   "file_extension": ".py",
   "mimetype": "text/x-python",
   "name": "python",
   "nbconvert_exporter": "python",
   "pygments_lexer": "ipython2",
   "version": "2.7.6"
  }
 },
 "nbformat": 4,
 "nbformat_minor": 5
}
